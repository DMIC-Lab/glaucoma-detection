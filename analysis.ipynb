{
 "cells": [
  {
   "cell_type": "code",
   "execution_count": 16,
   "metadata": {},
   "outputs": [],
   "source": [
    "import matplotlib.pyplot as plt\n",
    "from PIL import Image\n",
    "import numpy as np\n",
    "import os\n",
    "import cv2\n",
    "import pandas as pd\n",
    "import math\n",
    "import pandas as pd\n",
    "from skimage import morphology, measure\n",
    "import pickle"
   ]
  },
  {
   "cell_type": "code",
   "execution_count": 17,
   "metadata": {},
   "outputs": [],
   "source": [
    "i = 20 # image number\n",
    "frame = 100 # push the boundary of roi inwards"
   ]
  },
  {
   "cell_type": "code",
   "execution_count": 18,
   "metadata": {},
   "outputs": [],
   "source": [
    "def loadImageAsArray(path):\n",
    "    return np.array(Image.open(path))"
   ]
  },
  {
   "cell_type": "code",
   "execution_count": 19,
   "metadata": {},
   "outputs": [],
   "source": [
    "paths = [os.path.join('train',file) for file in os.listdir('train')]"
   ]
  },
  {
   "cell_type": "code",
   "execution_count": 20,
   "metadata": {},
   "outputs": [],
   "source": [
    "# organize label\n",
    "file_path = 'JustRAIGS_Train_labels.csv'\n",
    "alldata = pd.read_csv(file_path, usecols = range(27))\n",
    "positive_filenames = alldata[alldata['Final Label'] == 'RG']['Eye ID'].tolist()"
   ]
  },
  {
   "cell_type": "code",
   "execution_count": 21,
   "metadata": {},
   "outputs": [],
   "source": [
    "\n",
    "def convertGray(i):\n",
    "    name = positive_filenames[i] + '.JPG' # 1, \n",
    "    arr = loadImageAsArray('train/'+ name)\n",
    "    gray_image = cv2.cvtColor(arr, cv2.COLOR_BGR2GRAY)\n",
    "    return gray_image"
   ]
  },
  {
   "cell_type": "code",
   "execution_count": 22,
   "metadata": {},
   "outputs": [],
   "source": [
    "def remove_small_areas(image, min_size):\n",
    "    # Label connected regions\n",
    "    labels = measure.label(image, connectivity=2) \n",
    "\n",
    "    # Calculate region properties\n",
    "    props = measure.regionprops(labels)\n",
    "\n",
    "    # Create a mask for small regions\n",
    "    mask = np.zeros_like(image, dtype=bool)\n",
    "    for prop in props:\n",
    "        if prop.area < min_size:\n",
    "            mask[labels == prop.label] = True\n",
    "\n",
    "    # Remove small regions\n",
    "    result = image.copy()\n",
    "    result[mask] = 0\n",
    "\n",
    "    return result"
   ]
  },
  {
   "cell_type": "code",
   "execution_count": 23,
   "metadata": {},
   "outputs": [],
   "source": [
    "def find_y(center_x, center_y, radius, line_x):\n",
    "    y1 = math.sqrt(radius**2 - (line_x-center_x)**2) + center_y\n",
    "    y2 = -1* math.sqrt(radius**2 - (line_x-center_x)**2) + center_y\n",
    "    return y1, y2"
   ]
  },
  {
   "cell_type": "code",
   "execution_count": 24,
   "metadata": {},
   "outputs": [],
   "source": [
    "def find_x(center_x, center_y, radius, line_y):\n",
    "    x1 = math.sqrt(radius**2 - (line_y-center_y)**2) + center_x\n",
    "    x2 = -1* math.sqrt(radius**2 - (line_y-center_y)**2) + center_x\n",
    "    return x1, x2"
   ]
  },
  {
   "cell_type": "code",
   "execution_count": 25,
   "metadata": {},
   "outputs": [],
   "source": [
    "def find_center(roi, max_loc):\n",
    "    roi = cv2.medianBlur(roi, 35)\n",
    "    x_right = 0\n",
    "    x_left = 0\n",
    "    y_up = 0\n",
    "    y_down = 0\n",
    "    x = max_loc[1]\n",
    "    y = max_loc[0]\n",
    "    i = 0\n",
    "    while roi[y, x+i] > 0:\n",
    "        x_right = x+i\n",
    "        i = i+1\n",
    "    i = 0\n",
    "\n",
    "    while roi[y, x-i] > 0:\n",
    "        x_left = x-i\n",
    "        i = i + 1\n",
    "    i = 0\n",
    "    while roi[y+i, x] > 0:\n",
    "        y_down = y+1\n",
    "        i = i+1\n",
    "    i = 0\n",
    "    while roi[y-i, x] > 0:\n",
    "        y_up = y-i\n",
    "        i = i + 1\n",
    "    center = [(y_up + y_down)/2, (x_left + x_right)/2]\n",
    "    y_radius = abs(y_up-y_down)\n",
    "    x_radius = abs(x_left - x_right)\n",
    "    radius = max(x_radius, y_radius)\n",
    "    return center, radius"
   ]
  },
  {
   "cell_type": "markdown",
   "metadata": {},
   "source": [
    "For large cup (disc to cup ratio), locate cup and disc"
   ]
  },
  {
   "cell_type": "code",
   "execution_count": 26,
   "metadata": {},
   "outputs": [],
   "source": [
    "def getROI(roi, frame, gray_image):\n",
    "    y_all, x_all = gray_image.shape\n",
    "    # Find ROI\n",
    "    gray_image_new = gray_image[round(y_all*0.2):round(y_all*0.66), 0:x_all]\n",
    "    min_val, max_val, min_loc, max_loc = cv2.minMaxLoc(gray_image_new)\n",
    "    print(min_val, max_val, min_loc, max_loc)\n",
    "    y_all_new, x_all_new = gray_image_new.shape\n",
    "    roi_size_x = x_all_new//3 # for cupping, only the disc\n",
    "    roi_size_y = y_all_new//2\n",
    "    x_start = max_loc[0] - roi_size_x//2 \n",
    "    y_start = max_loc[1] - roi_size_y//2\n",
    "    x_end = max_loc[0] + roi_size_x//2\n",
    "    y_end = max_loc[1] + roi_size_y//2\n",
    "    roi = gray_image_new[y_start:y_end, x_start:x_end]\n",
    "    return  x_start, y_start"
   ]
  },
  {
   "cell_type": "code",
   "execution_count": 30,
   "metadata": {},
   "outputs": [],
   "source": [
    "def findCFR(roi, frame, gray_image):\n",
    "    y_all, x_all = roi.shape\n",
    "    # get min enclosing circle for disc\n",
    "    x_start, y_start= getROI(gray_image)\n",
    "    roi_disc = roi[frame: y_all - frame, frame: x_all-frame]\n",
    "    _, max_val, _, max_loc = cv2.minMaxLoc(roi_disc)\n",
    "\n",
    "    plt.imshow(roi_disc)\n",
    "    plt.scatter(*max_loc,c='r')\n",
    "    plt.show()\n",
    "    roi_disc[ roi_disc < (max_val - 60)] = 0\n",
    "    plt.imshow(roi_disc)\n",
    "    _, max_val, _, max_loc = cv2.minMaxLoc(roi_disc)\n",
    "    canny_disc = cv2.Canny( roi_disc, 0, 200)\n",
    "    points_disc = np.argwhere(canny_disc>0)\n",
    "    print(points_disc)\n",
    "    center_disc, radius_disc = cv2.minEnclosingCircle(points_disc)\n",
    "    print('center:', center_disc, 'radius:', radius_disc)\n",
    "\n",
    "    result_disc= roi.copy()\n",
    "    x_disc = int(center_disc[1]+ x_start) \n",
    "    y_disc = int(center_disc[0]+ y_start)\n",
    "    rad_disc = int(radius_disc)\n",
    "    cv2.circle(result_disc, [y_disc,x_disc], rad_disc, (255,255,255), 1)\n",
    "    plt.imshow(result_disc)\n",
    "\n",
    "    roi_cup = roi[frame: y_all - frame, frame: x_all-frame]\n",
    "    _, max_val,_, max_loc = cv2.minMaxLoc(roi_cup)\n",
    "    plt.scatter(*max_loc,c='r')\n",
    "    plt.show()\n",
    "\n",
    "    roi_cup [roi_cup  < (max_val - 20)] = 0\n",
    "    canny_cup = cv2.Canny(roi_cup , 0, 200)\n",
    "    points_cup = np.argwhere(canny_cup>0)\n",
    "\n",
    "    # get min enclosing circle for cup\n",
    "    center_cup, radius_cup = cv2.minEnclosingCircle(points_cup)\n",
    "    print('center:', center_cup, 'radius:', radius_cup)\n",
    "    result_cup = roi.copy()\n",
    "    x = int(center_disc[1])\n",
    "    y = int(center_disc[0])\n",
    "    rad = int(radius_cup)\n",
    "    cv2.circle(result_cup, [y,x], rad, (255,255,255), 1)\n",
    "    CDR = radius_cup/radius_disc\n",
    "    print(center_cup, center_disc, radius_cup, radius_disc)\n",
    "    # calculate I, S, N, T (Normal neuroretinal rim: The neuroretinal rim is the most important parameter of the optic disk evaluation. \n",
    "    # The optic disk is vertically oval and the cup is horizontally oval thus the rim has a characteristic configuration where the inferior (I) \n",
    "    # rim is the widest, followed by the superior (S) and nasal rims (N) and the temporal (T) rim is the thinnest. \n",
    "    # This is the ‘ISNT rule' which helps to determine glaucomatous changes in the disk glaucoma. On an average, \n",
    "    # the inferior rim is 18% thicker than the superior rim\n",
    "\n",
    "    line_x = center_cup[1]\n",
    "    center_x_disc = center_disc[1]\n",
    "    center_y_disc = center_disc[0]\n",
    "    center_x_cup = center_cup[1]\n",
    "    center_y_cup = center_cup[0]\n",
    "    y_disc_s, y_disc_i = find_y(center_x_disc, center_y_disc, radius_disc, line_x)\n",
    "    y_cup_s, y_cup_i = find_y(center_x_cup, center_y_cup, radius_cup, line_x)\n",
    "    S =  abs(y_cup_s - y_disc_s)\n",
    "    I =  abs(y_disc_i - y_cup_i)\n",
    "    line_y = center_cup[0]\n",
    "    center_x_disc = center_disc[1]\n",
    "    center_y_disc = center_disc[0]\n",
    "    center_x_cup = center_cup[1]\n",
    "    center_y_cup = center_cup[0]\n",
    "    x_disc_l, x_disc_r = find_x(center_x_disc, center_y_disc, radius_disc, line_y)\n",
    "    x_cup_l, x_cup_r = find_x(center_x_cup, center_y_cup, radius_cup, line_y)\n",
    "    T = abs(x_cup_l - x_disc_l)\n",
    "    N = abs(x_disc_r - x_cup_r)\n",
    "    return  CDR, I, S, N, T"
   ]
  },
  {
   "cell_type": "code",
   "execution_count": 31,
   "metadata": {},
   "outputs": [],
   "source": [
    "def loadGray(i):\n",
    "    name = positive_filenames[i] + '.npy' # 1, \n",
    "    arr = np.load('preprocessed/'+ name)\n",
    "    gray_image = cv2.cvtColor(arr, cv2.COLOR_BGR2GRAY)\n",
    "    return gray_image"
   ]
  },
  {
   "cell_type": "code",
   "execution_count": 32,
   "metadata": {},
   "outputs": [],
   "source": [
    "d = {}\n",
    "for i in range(3):#(len(positive_filenames)):\n",
    "    try:\n",
    "        roi = loadGray(i)\n",
    "        gray_image = convertGray(i)\n",
    "        findCFR(roi, frame, gray_image)\n",
    "        CDR, S, I, T, N = findCFR(roi, frame, gray_image)\n",
    "        d[positive_filenames[i]] = [CDR,S,I,T,N]\n",
    "    except:\n",
    "        d[positive_filenames[i]] = [0,0,0,0,0]\n",
    "# pickle.dump(d,open('cup.pkl','wb'))"
   ]
  }
 ],
 "metadata": {
  "kernelspec": {
   "display_name": "base",
   "language": "python",
   "name": "python3"
  },
  "language_info": {
   "codemirror_mode": {
    "name": "ipython",
    "version": 3
   },
   "file_extension": ".py",
   "mimetype": "text/x-python",
   "name": "python",
   "nbconvert_exporter": "python",
   "pygments_lexer": "ipython3",
   "version": "3.10.9"
  }
 },
 "nbformat": 4,
 "nbformat_minor": 2
}
